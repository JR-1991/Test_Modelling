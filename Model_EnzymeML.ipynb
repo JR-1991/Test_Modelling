{
 "cells": [
  {
   "cell_type": "code",
   "execution_count": 1,
   "id": "8fc16d15-2a16-459c-a885-4c240aed632b",
   "metadata": {},
   "outputs": [],
   "source": [
    "import pyenzyme as pe"
   ]
  },
  {
   "cell_type": "code",
   "execution_count": 2,
   "id": "2038627a-e603-4daa-ae83-61f1ab38cb1e",
   "metadata": {},
   "outputs": [],
   "source": [
    "# Data was simulated using the model s0 * a + b\n",
    "# Multiple measurements with different offsets\n",
    "# Replicate data is for s1"
   ]
  },
  {
   "cell_type": "code",
   "execution_count": 3,
   "id": "97304896-95fa-4ad4-af81-393311d91791",
   "metadata": {},
   "outputs": [],
   "source": [
    "from src import Model, LoadEnzymeML, ParameterEstimation "
   ]
  },
  {
   "cell_type": "code",
   "execution_count": 4,
   "id": "067961be-1907-45bd-be8e-42e6b0617c11",
   "metadata": {},
   "outputs": [
    {
     "name": "stdout",
     "output_type": "stream",
     "text": [
      "2022-04-29 01:23:32,847 (WARNING): Running DVC command: 'dvc run -n LoadEnzymeML ...'\n",
      "2022-04-29 01:23:34,635 (WARNING): Running DVC command: 'dvc run -n Alocohol dehydrogenation ...'\n",
      "2022-04-29 01:23:36,010 (WARNING): Running DVC command: 'dvc run -n ParameterEstimation ...'\n",
      "2022-04-29 01:23:37,479 (WARNING): Running DVC command: 'dvc plots modify nodes/ParameterEstimation/time_course.csv ...'\n"
     ]
    }
   ],
   "source": [
    "# Build graph\n",
    "enzmldoc = pe.EnzymeMLDocument.fromFile(\"Test.omex\")\n",
    "load_node = LoadEnzymeML(path=\"Test.omex\")\n",
    "load_node.write_graph(run=True)\n",
    "\n",
    "for reaction_obj in enzmldoc.reaction_dict.values():\n",
    "    model_node = Model(\n",
    "        data=load_node,\n",
    "        equation=\"ethanol * a + b\",\n",
    "        reaction=reaction_obj.id,\n",
    "        name=reaction_obj.name,\n",
    "        config={\n",
    "            \"a\": {\n",
    "                \"value\": 2,\n",
    "                \"initial_value\": 2,\n",
    "                \"upper\": 3,\n",
    "                \"lower\": 1,\n",
    "                \"unit\": \"dimensionless\"\n",
    "            },\n",
    "            \"b\": {\n",
    "                \"value\": 10,\n",
    "                \"initial_value\": 10,\n",
    "                \"upper\": 11,\n",
    "                \"lower\": 9,\n",
    "                \"unit\": \"mmole / l\"\n",
    "            }\n",
    "        }\n",
    "    )\n",
    "    model_node.write_graph(run=True)\n",
    "    \n",
    "estimation_node = ParameterEstimation(data=model_node, thinlayer=\"pysces\")\n",
    "estimation_node.write_graph(run=True)"
   ]
  }
 ],
 "metadata": {
  "kernelspec": {
   "display_name": "zntrack",
   "language": "python",
   "name": "zntrack"
  },
  "language_info": {
   "codemirror_mode": {
    "name": "ipython",
    "version": 3
   },
   "file_extension": ".py",
   "mimetype": "text/x-python",
   "name": "python",
   "nbconvert_exporter": "python",
   "pygments_lexer": "ipython3",
   "version": "3.9.12"
  }
 },
 "nbformat": 4,
 "nbformat_minor": 5
}
